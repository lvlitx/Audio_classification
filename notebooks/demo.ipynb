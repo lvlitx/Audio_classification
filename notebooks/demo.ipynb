{
 "cells": [
  {
   "cell_type": "code",
   "execution_count": null,
   "metadata": {
    "vscode": {
     "languageId": "plaintext"
    }
   },
   "outputs": [],
   "source": [
    "# Example usage in a notebook\n",
    "\n",
    "# 1. Import functions\n",
    "from src.audio_processing import generate_spectrograms\n",
    "from src.model_training import train_model\n",
    "from src.prediction import predict_audio_quality\n",
    "\n",
    "# 2. Generate spectrograms\n",
    "generate_spectrograms(input_dir='data', output_dir='spectrograms')\n",
    "\n",
    "# 3. Train the model\n",
    "learn = train_model(spectrogram_dir='spectrograms', epochs=5)\n",
    "\n",
    "# 4. Make predictions\n",
    "result = predict_audio_quality('path/to/new_audio.wav', learn)\n",
    "print(result)"
   ]
  }
 ],
 "metadata": {
  "language_info": {
   "name": "python"
  }
 },
 "nbformat": 4,
 "nbformat_minor": 2
}
